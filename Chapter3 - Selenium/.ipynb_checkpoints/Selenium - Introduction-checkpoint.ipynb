{
 "cells": [
  {
   "cell_type": "markdown",
   "metadata": {},
   "source": [
    "## Selenium:\n",
    "\n",
    "Note: We will asume a basic knowledge of web scraping and the related tools like HTTP protocol, parse methods, regex, and XPath CSS selectors. We only emphasy in the differences of the usage of the package. "
   ]
  },
  {
   "cell_type": "markdown",
   "metadata": {},
   "source": [
    "- Get element by name and input some keywords. Then, redirect and get page_source."
   ]
  },
  {
   "cell_type": "code",
   "execution_count": 49,
   "metadata": {},
   "outputs": [
    {
     "name": "stdout",
     "output_type": "stream",
     "text": [
      "origin length html 306071\n"
     ]
    },
    {
     "name": "stderr",
     "output_type": "stream",
     "text": [
      "C:\\Users\\pablo\\Anaconda3\\lib\\site-packages\\ipykernel_launcher.py:19: DeprecationWarning: use driver.switch_to.window instead\n"
     ]
    },
    {
     "name": "stdout",
     "output_type": "stream",
     "text": [
      "after query length html 314922\n"
     ]
    }
   ],
   "source": [
    "#The path need to be specify in the code or in the enviroment variables (assuming you're using windows)\n",
    "from selenium import webdriver\n",
    "from selenium.webdriver.common.keys import Keys\n",
    "import time\n",
    "\n",
    "#Is it require that you specify the driver path and the kind of. There are few other options available. \n",
    "driver = webdriver.Chrome(\"C:\\Program Files\\ChromeDriver\\chromedriver.exe\")\n",
    "#When you execute a get method, selenium will open the page on an automated browser. \n",
    "driver.get(\"https://www.smv.gob.pe/Frm_HechosDeImportancia?data=5B6C3B6FF5A65DC5E825FFF54DF9C44CAA73C1E7F8\")\n",
    "#This driver object has a .find_element_by_name method to find elements (id, xpaht, link_text, partial_link_text are available)\n",
    "print('origin length html',len(driver.page_source))\n",
    "#Now, we will select and input object, and then clear it with .clear() method\n",
    "elem = driver.find_element_by_name(\"ctl00$MainContent$txtBusquedaDesc\")\n",
    "elem.clear()\n",
    "#We can also send Keys (from the Keyboard) with Selenium driver.\n",
    "elem.send_keys(\"Exceso\")\n",
    "elem.send_keys(Keys.RETURN)\n",
    "driver.implicitly_wait(10)\n",
    "driver.switch_to_window(driver.window_handles[0])\n",
    "# To ensure that some results are found, make an assertion:\n",
    "assert \"No results are found\" not in driver.page_source\n",
    "#Also you have .find_elements_by_name which differs of an 's' of the above method. This return a list. \n",
    "lista_td = driver.find_elements_by_tag_name('td')\n",
    "html = driver.page_source\n",
    "print('after query length html',len(html))"
   ]
  },
  {
   "cell_type": "markdown",
   "metadata": {},
   "source": [
    "- Do a click in a button, redirect the page and then get the source html."
   ]
  },
  {
   "cell_type": "code",
   "execution_count": 50,
   "metadata": {},
   "outputs": [
    {
     "name": "stdout",
     "output_type": "stream",
     "text": [
      "before html length 393882\n",
      "after html length 189959\n"
     ]
    },
    {
     "name": "stderr",
     "output_type": "stream",
     "text": [
      "C:\\Users\\pablo\\Anaconda3\\lib\\site-packages\\ipykernel_launcher.py:15: DeprecationWarning: use driver.switch_to.window instead\n",
      "  from ipykernel import kernelapp as app\n"
     ]
    }
   ],
   "source": [
    "#The path need to be specify in the code or in the enviroment variables (assuming you're using windows)\n",
    "from selenium import webdriver\n",
    "from selenium.webdriver.common.keys import Keys\n",
    "#Is it require that you specify the driver path and the kind of. There are few other options available. \n",
    "driver = webdriver.Chrome(\"C:\\Program Files\\ChromeDriver\\chromedriver.exe\")\n",
    "#When you execute a get method, selenium will open the page on an automated browser. \n",
    "driver.get(\"https://www.smv.gob.pe/Frm_HechosDeImportancia?data=5B6C3B6FF5A65DC5E825FFF54DF9C44CAA73C1E7F8\")\n",
    "#This driver object has a .find_element_by_name method to find elements (id, xpaht, link_text, partial_link_text are available)\n",
    "print(\"before html length {}\".format(len(driver.page_source)))\n",
    "#Now, how can we do clicks inside a page? \n",
    "driver.find_element_by_class_name('itemprincipal').click()\n",
    "\n",
    "#We should wait a few seconds to refresh the content.\n",
    "driver.implicitly_wait(5)\n",
    "driver.switch_to_window(driver.window_handles[0])\n",
    "# To ensure that some results are found, make an assertion:\n",
    "assert \"No results are found\" not in driver.page_source\n",
    "#Also you have .find_elements_by_name which differs of an 's' of the above method. This return a list. \n",
    "html = driver.page_source\n",
    "print(\"after html length {}\".format(len(html)))"
   ]
  },
  {
   "cell_type": "markdown",
   "metadata": {},
   "source": [
    "- Headless navigator: This code should not open an extra driver to do the scrape. (source_code[https://medium.com/@pyzzled/running-headless-chrome-with-selenium-in-python-3f42d1f5ff1d])"
   ]
  },
  {
   "cell_type": "code",
   "execution_count": 54,
   "metadata": {},
   "outputs": [
    {
     "name": "stderr",
     "output_type": "stream",
     "text": [
      "C:\\Users\\pablo\\Anaconda3\\lib\\site-packages\\ipykernel_launcher.py:11: DeprecationWarning: use options instead of chrome_options\n",
      "  # This is added back by InteractiveShellApp.init_path()\n"
     ]
    },
    {
     "name": "stdout",
     "output_type": "stream",
     "text": [
      "before html length 219724\n"
     ]
    },
    {
     "name": "stderr",
     "output_type": "stream",
     "text": [
      "C:\\Users\\pablo\\Anaconda3\\lib\\site-packages\\ipykernel_launcher.py:18: DeprecationWarning: use driver.switch_to.window instead\n"
     ]
    },
    {
     "name": "stdout",
     "output_type": "stream",
     "text": [
      "after html length 93963\n"
     ]
    }
   ],
   "source": [
    "from selenium.webdriver.chrome.options import Options\n",
    "\n",
    "#We will define the crhome driver, and the window size (U know what i mean)\n",
    "\n",
    "chrome_options = Options()\n",
    "chrome_options.add_argument(\"--headless\")\n",
    "chrome_options.add_argument(\"--window-size=1920x1080\")\n",
    "\n",
    "#Let's specify the driver\n",
    "driver = webdriver.Chrome(chrome_options = chrome_options, executable_path=\"C:\\Program Files\\ChromeDriver\\chromedriver.exe\")\n",
    "#And then the code: \n",
    "driver.get(\"https://www.smv.gob.pe/Frm_hechosdeImportanciaDia?data=38C2EC33FA106691BB5B5039DACFDF50795D8EC3AF\")\n",
    "print(\"before html length {}\".format(len(driver.page_source)))\n",
    "driver.find_element_by_xpath(\"//*[@id=\\\"frmMain\\\"]/div[3]/header/div[1]/div/div[1]/a\").click()\n",
    "driver.implicitly_wait(5)\n",
    "#We will handle the open url\n",
    "driver.switch_to_window(driver.window_handles[1])\n",
    "#And get the html\n",
    "html = driver.page_source\n",
    "print(\"after html length {}\".format(len(html)))"
   ]
  },
  {
   "cell_type": "markdown",
   "metadata": {},
   "source": [
    "- Note: In colab it can be useful to download the ChromeDriver in the moment. You can do this with:"
   ]
  },
  {
   "cell_type": "raw",
   "metadata": {},
   "source": [
    "!pip install selenium\n",
    "!sudo curl -sS -o - https://dl-ssl.google.com/linux/linux_signing_key.pub | apt-key add\n",
    "!sudo echo \"deb [arch=amd64]  http://dl.google.com/linux/chrome/deb/ stable main\" >> /etc/apt/sources.list.d/google-chrome.list\n",
    "!sudo apt-get -y update\n",
    "!sudo apt-get -y install google-chrome-stable\n",
    "!wget https://chromedriver.storage.googleapis.com/2.41/chromedriver_linux64.zip\n",
    "!unzip chromedriver_linux64.zip"
   ]
  }
 ],
 "metadata": {
  "kernelspec": {
   "display_name": "Python 3",
   "language": "python",
   "name": "python3"
  },
  "language_info": {
   "codemirror_mode": {
    "name": "ipython",
    "version": 3
   },
   "file_extension": ".py",
   "mimetype": "text/x-python",
   "name": "python",
   "nbconvert_exporter": "python",
   "pygments_lexer": "ipython3",
   "version": "3.7.5"
  }
 },
 "nbformat": 4,
 "nbformat_minor": 4
}
