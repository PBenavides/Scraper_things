{
 "cells": [
  {
   "cell_type": "markdown",
   "metadata": {},
   "source": [
    "Para el ajax en enlima.pe https://www.enlima.pe/calendario-cultural/dia/2020-01-14?page=1"
   ]
  },
  {
   "cell_type": "code",
   "execution_count": 14,
   "metadata": {},
   "outputs": [],
   "source": [
    "import requests\n",
    "from bs4 import BeautifulSoup\n",
    "\n",
    "import datetime\n",
    "from datetime import timedelta\n",
    "\n",
    "import re\n",
    "import time\n",
    "\n",
    "import pandas as pd"
   ]
  },
  {
   "cell_type": "markdown",
   "metadata": {},
   "source": [
    "La siguiente será una función que me permitirá hacer los links de acuerdo a la estructura de la página. Es decir, tendré una lista de links correspondientes a cada día."
   ]
  },
  {
   "cell_type": "code",
   "execution_count": 2,
   "metadata": {},
   "outputs": [],
   "source": [
    "def pass_datetimes_make_links(initial_time, final_time):\n",
    "    # A este función se le deben de pasar dos objetos datetime.datetime especificados respectivamente\n",
    "    date_list = [] #Aca pondre las fechas que generaré\n",
    "    time_obj = initial_time #Es mi tiempo inicial\n",
    "    while time_obj <= final_time:  #Si tengo la fecha inicial menor que la final\n",
    "        fecha_formateada = time_obj.strftime(\"%Y-%m-%d\") #formateo mi tiempo\n",
    "        date_list.append(fecha_formateada)\n",
    "        time_obj += timedelta(days=1) #Voy aumentando los días hasta que cumpla la condicion\n",
    "    #Haré los links finalmente y los pondré denuevo en una lista.\n",
    "    lista_links_dias = ['https://www.enlima.pe/calendario-cultural/dia/'+fecha+'?page=1' for fecha in date_list]\n",
    "    return lista_links_dias\n",
    "\n",
    "#Esto me botará una lista con todos los links padres a los que entraré primero."
   ]
  },
  {
   "cell_type": "code",
   "execution_count": 3,
   "metadata": {},
   "outputs": [],
   "source": [
    "#Tengo una lista de links en general de los dias\n",
    "def scrap_me_internal_links(lista_links_dias):\n",
    "    #creo el diccionario final\n",
    "    dict_fecha_links_internos = {}\n",
    "    #Para cada dia dentro de la lista de los links del dia\n",
    "    for link_del_dia in lista_links_dias:\n",
    "        time.sleep(1)\n",
    "        #crea la conexion\n",
    "        response = requests.get(link_del_dia)\n",
    "        soup = BeautifulSoup(response.text,\"html.parser\")\n",
    "        #crea una lista para los links de los eventos del dia\n",
    "        lista_links_eventos_del_dia = []\n",
    "        #para cada coneccions, hay varios links internos\n",
    "        for i in soup.find('div',{'class':'innera'}).find_all('td',{'class':'views-field views-field-title views-align-left'}):\n",
    "            #Pondré esos links internos en la lista anteriormente creda\n",
    "            for a in i.find_all('a',href=True):\n",
    "                lista_links_eventos_del_dia.append('https://www.enlima.pe' + str(a['href']))\n",
    "            #hasta acá tengo una lista de todos los links internos por dia.\n",
    "        dict_por_dia = scrap_me_los_eventos(lista_links_eventos_del_dia,i=0)\n",
    "        #Para toda la data generada por dia, ponmela en un diccionario aparte.\n",
    "        dict_fecha_links_internos[link_del_dia[46:56]] = dict_por_dia\n",
    "    return dict_fecha_links_internos"
   ]
  },
  {
   "cell_type": "code",
   "execution_count": 4,
   "metadata": {},
   "outputs": [],
   "source": [
    "#Esta funcion está hecha para scrapear una lista de links internos (de eventos) y\n",
    "#botar la data que se obtenga dentro de un dict. \n",
    "def scrap_me_los_eventos(lista_links_eventos_del_dia,i=0):\n",
    "    dict_scrap_final = {}\n",
    "    dict_scrap_interno = {}\n",
    "    for link_evento in lista_links_eventos_del_dia:\n",
    "        i+=1\n",
    "        response = requests.get(link_evento)\n",
    "        soup = BeautifulSoup(response.text,\"html.parser\")\n",
    "        titulo = soup.find('h1',{'class':'page__title title'}).text\n",
    "        basic_info = [div.text for div in soup.find_all('div',{'class':'field-item even'})[2:7]]\n",
    "        tipo, lugar, intervalo_fecha, precio, descripcion_basica = map(str,basic_info)\n",
    "        to_parse = [elem.text for elem in soup.find('div',{'class':\n",
    "                                                           'ds-1col node node-lugar view-mode-reference clearfix'}).find_all('div',\n",
    "                                                                                                                             {'class':'field-item even'})]\n",
    "        pattern = re.compile(r'-\\d*.\\d*,-\\d*.\\d*',re.MULTILINE|re.DOTALL) #Tengo el patron de las coordenadas\n",
    "        script = soup.find_all('script',text=pattern) #saco el script que contiene el patron\n",
    "        try: \n",
    "            coordenadas_list = re.findall(pattern,str(script))[0].split(',') #Lo obtengo y lo pongo dentro de una lista.\n",
    "        except:\n",
    "            coordenadas_list = ['nohay','nohay']\n",
    "        dict_scrap_final['evento'+str(i)] = {'nombre_evento':titulo,'tipo_evento':tipo,'lugar_evento':lugar,\n",
    "                                        'intervalo_fecha':intervalo_fecha,'precio':precio,\n",
    "                                         'descripcion_basica':descripcion_basica,'data_extra':to_parse,\n",
    "                                         'coordenadas':coordenadas_list}\n",
    "    return dict_scrap_final"
   ]
  },
  {
   "cell_type": "code",
   "execution_count": 5,
   "metadata": {},
   "outputs": [],
   "source": [
    "#Genero segun dos dias:\n",
    "initial_time = datetime.datetime(2019,1,2)\n",
    "final_time = datetime.datetime(2019,1,4)"
   ]
  },
  {
   "cell_type": "code",
   "execution_count": 6,
   "metadata": {},
   "outputs": [],
   "source": [
    "lista_links_dias = pass_datetimes_make_links(initial_time,final_time)\n",
    "dict_final3 = scrap_me_internal_links(lista_links_dias)"
   ]
  },
  {
   "cell_type": "code",
   "execution_count": 45,
   "metadata": {},
   "outputs": [],
   "source": [
    "for k,v in dict_final3.items():\n",
    "    df = pd.DataFrame().from_dict(v,orient='index')\n",
    "    df.to_csv('enlima_'+k+'.csv',index=False)"
   ]
  },
  {
   "cell_type": "code",
   "execution_count": 46,
   "metadata": {},
   "outputs": [],
   "source": []
  },
  {
   "cell_type": "code",
   "execution_count": 47,
   "metadata": {},
   "outputs": [
    {
     "data": {
      "text/html": [
       "<div>\n",
       "<style scoped>\n",
       "    .dataframe tbody tr th:only-of-type {\n",
       "        vertical-align: middle;\n",
       "    }\n",
       "\n",
       "    .dataframe tbody tr th {\n",
       "        vertical-align: top;\n",
       "    }\n",
       "\n",
       "    .dataframe thead th {\n",
       "        text-align: right;\n",
       "    }\n",
       "</style>\n",
       "<table border=\"1\" class=\"dataframe\">\n",
       "  <thead>\n",
       "    <tr style=\"text-align: right;\">\n",
       "      <th></th>\n",
       "      <th>nombre_evento</th>\n",
       "      <th>tipo_evento</th>\n",
       "      <th>lugar_evento</th>\n",
       "      <th>intervalo_fecha</th>\n",
       "      <th>precio</th>\n",
       "      <th>descripcion_basica</th>\n",
       "      <th>data_extra</th>\n",
       "      <th>coordenadas</th>\n",
       "    </tr>\n",
       "  </thead>\n",
       "  <tbody>\n",
       "    <tr>\n",
       "      <th>0</th>\n",
       "      <td>El asesinato de la familia Borden</td>\n",
       "      <td>Cine</td>\n",
       "      <td>Varias sedes - Lima</td>\n",
       "      <td>Del 20.12.2018 al 03.01.2019</td>\n",
       "      <td>S/. 20.00</td>\n",
       "      <td>ChloÃ« Sevigny y Kristen Stewart protagonizan ...</td>\n",
       "      <td>['Varias sedes - Lima', 'Ãrea metropolitana',...</td>\n",
       "      <td>['nohay', 'nohay']</td>\n",
       "    </tr>\n",
       "    <tr>\n",
       "      <th>1</th>\n",
       "      <td>Papeles sobre el suelo</td>\n",
       "      <td>ExposiciÃ³n</td>\n",
       "      <td>Instituto Italiano de Cultura</td>\n",
       "      <td>9:00 am</td>\n",
       "      <td>Del 07.12.2018 al 09.02.2019</td>\n",
       "      <td>GRATIS</td>\n",
       "      <td>['Instituto Italiano de Cultura', 'Av. Arequip...</td>\n",
       "      <td>['-77.0357290999999975156242726370692253112792...</td>\n",
       "    </tr>\n",
       "    <tr>\n",
       "      <th>2</th>\n",
       "      <td>Caleidoscopio de un Arenal</td>\n",
       "      <td>ExposiciÃ³n</td>\n",
       "      <td>Centro Cultural de Bellas Artes</td>\n",
       "      <td>10:00 am</td>\n",
       "      <td>Del 13.12.2018 al 27.01.2019</td>\n",
       "      <td>GRATIS</td>\n",
       "      <td>['Centro Cultural de Bellas Artes', 'Jr. Huall...</td>\n",
       "      <td>['-77.0301716000000027406713343225419521331787...</td>\n",
       "    </tr>\n",
       "    <tr>\n",
       "      <th>3</th>\n",
       "      <td>Liliane Tomasko</td>\n",
       "      <td>ExposiciÃ³n</td>\n",
       "      <td>MATE Lab - Museo Mario Testino</td>\n",
       "      <td>10:00 am</td>\n",
       "      <td>Del 25.11.2018 al 27.01.2019</td>\n",
       "      <td>GRATIS</td>\n",
       "      <td>['MATE Lab - Museo Mario Testino', 'Av. Pedro ...</td>\n",
       "      <td>['-77.0228443000000027041096473112702369689941...</td>\n",
       "    </tr>\n",
       "    <tr>\n",
       "      <th>4</th>\n",
       "      <td>Dora Mayer, la perseverancia femenina frente a...</td>\n",
       "      <td>ExposiciÃ³n</td>\n",
       "      <td>Centro Cultural Inca Garcilaso</td>\n",
       "      <td>10:00 am</td>\n",
       "      <td>Del 06.12.2018 al 27.01.2019</td>\n",
       "      <td>GRATIS</td>\n",
       "      <td>['Centro Cultural Inca Garcilaso', 'Jr. Ucayal...</td>\n",
       "      <td>['-77.0290530999999987216142471879720687866210...</td>\n",
       "    </tr>\n",
       "    <tr>\n",
       "      <th>5</th>\n",
       "      <td>Daido Tokyo Color</td>\n",
       "      <td>ExposiciÃ³n</td>\n",
       "      <td>MATE - Museo Mario Testino</td>\n",
       "      <td>10:00 am</td>\n",
       "      <td>Del 19.10.2018 al 03.03.2019</td>\n",
       "      <td>GRATIS</td>\n",
       "      <td>['MATE - Museo Mario Testino', 'Av. Pedro de O...</td>\n",
       "      <td>['-77.0228443000000027041096473112702369689941...</td>\n",
       "    </tr>\n",
       "    <tr>\n",
       "      <th>6</th>\n",
       "      <td>Isla Azul. LÃ¡minas de Iquitos</td>\n",
       "      <td>Centro Cultural Inca Garcilaso</td>\n",
       "      <td>10:00 am</td>\n",
       "      <td>Del 13.12.2018 al 27.01.2019</td>\n",
       "      <td>GRATIS</td>\n",
       "      <td>Iquitos fue la ciudad-puerto protagonista, jun...</td>\n",
       "      <td>['Centro Cultural Inca Garcilaso', 'Jr. Ucayal...</td>\n",
       "      <td>['-77.0290530999999987216142471879720687866210...</td>\n",
       "    </tr>\n",
       "    <tr>\n",
       "      <th>7</th>\n",
       "      <td>Zimoun</td>\n",
       "      <td>ExposiciÃ³n</td>\n",
       "      <td>Espacio FundaciÃ³n TelefÃ³nica</td>\n",
       "      <td>10:00 am</td>\n",
       "      <td>Del 22.11.2018 al 10.03.2019</td>\n",
       "      <td>GRATIS</td>\n",
       "      <td>['Espacio FundaciÃ³n TelefÃ³nica', 'Av. Arequi...</td>\n",
       "      <td>['-77.0353209000000020978404791094362735748291...</td>\n",
       "    </tr>\n",
       "    <tr>\n",
       "      <th>8</th>\n",
       "      <td>Taivaanranta - Firmamento</td>\n",
       "      <td>ExposiciÃ³n</td>\n",
       "      <td>Centro Cultural PUCP</td>\n",
       "      <td>10:00 am</td>\n",
       "      <td>Del 18.10.2018 al 31.01.2019</td>\n",
       "      <td>GRATIS</td>\n",
       "      <td>['Centro Cultural PUCP', 'Av. Camino Real 1075...</td>\n",
       "      <td>['-77.0386916000000070425812737084925174713134...</td>\n",
       "    </tr>\n",
       "    <tr>\n",
       "      <th>9</th>\n",
       "      <td>AutotÃ©lico</td>\n",
       "      <td>ExposiciÃ³n</td>\n",
       "      <td>Casa Fugaz</td>\n",
       "      <td>11:00 am</td>\n",
       "      <td>Del 24.11.2018 al 24.01.2019</td>\n",
       "      <td>GRATIS</td>\n",
       "      <td>['Casa Fugaz', 'Jr. ConstituciÃ³n 250, Monumen...</td>\n",
       "      <td>['-77.1473139999999943938746582716703414916992...</td>\n",
       "    </tr>\n",
       "    <tr>\n",
       "      <th>10</th>\n",
       "      <td>La otra mirada del jugador: Dibujos de Julio H...</td>\n",
       "      <td>ExposiciÃ³n</td>\n",
       "      <td>GalerÃ­a ICPNA - Miraflores</td>\n",
       "      <td>11:00 am</td>\n",
       "      <td>Del 28.12.2018 al 06.01.2019</td>\n",
       "      <td>GRATIS</td>\n",
       "      <td>['GalerÃ­a ICPNA - Miraflores', 'Av. Angamos O...</td>\n",
       "      <td>['-77.0302690000000040981831261888146400451660...</td>\n",
       "    </tr>\n",
       "    <tr>\n",
       "      <th>11</th>\n",
       "      <td>ORGANUM. Universos corporales</td>\n",
       "      <td>ExposiciÃ³n</td>\n",
       "      <td>Sheraton Lima Hotel &amp; Convention Center</td>\n",
       "      <td>11:00 am</td>\n",
       "      <td>Del 24.11.2018 al 06.01.2019</td>\n",
       "      <td>GRATIS</td>\n",
       "      <td>['Sheraton Lima Hotel &amp; Convention Center', 'P...</td>\n",
       "      <td>['-77.0370410000000021000232663936913013458251...</td>\n",
       "    </tr>\n",
       "    <tr>\n",
       "      <th>12</th>\n",
       "      <td>Yoko Ono. Universo Libre</td>\n",
       "      <td>ExposiciÃ³n</td>\n",
       "      <td>Proyecto AMIL</td>\n",
       "      <td>3:00 pm</td>\n",
       "      <td>Del 18.09.2018 al 16.02.2019</td>\n",
       "      <td>GRATIS</td>\n",
       "      <td>['Proyecto AMIL', 'C.C. Camino Real, VÃ­ctor A...</td>\n",
       "      <td>['-77.0363554358479944994542165659368038177490...</td>\n",
       "    </tr>\n",
       "    <tr>\n",
       "      <th>13</th>\n",
       "      <td>Reina por un dÃ­a</td>\n",
       "      <td>Teatro Marsano</td>\n",
       "      <td>7:00 pm</td>\n",
       "      <td>Del 02.01.2019 al 31.03.2019</td>\n",
       "      <td>S/. 38.00 a S/. 80.00</td>\n",
       "      <td>Valentina esÂ una madre que abandona a su hijo...</td>\n",
       "      <td>['Teatro Marsano', 'General SuÃ¡rez 409', 'Mir...</td>\n",
       "      <td>['-77.0276357999999987669070833362638950347900...</td>\n",
       "    </tr>\n",
       "    <tr>\n",
       "      <th>14</th>\n",
       "      <td>Reina por un dÃ­a</td>\n",
       "      <td>Teatro Marsano</td>\n",
       "      <td>8:00 pm</td>\n",
       "      <td>Del 02.01.2019 al 30.03.2019</td>\n",
       "      <td>S/. 38.00 a S/. 80.00</td>\n",
       "      <td>Valentina esÂ una madre que abandona a su hijo...</td>\n",
       "      <td>['Teatro Marsano', 'General SuÃ¡rez 409', 'Mir...</td>\n",
       "      <td>['-77.0276357999999987669070833362638950347900...</td>\n",
       "    </tr>\n",
       "  </tbody>\n",
       "</table>\n",
       "</div>"
      ],
      "text/plain": [
       "                                        nombre_evento  \\\n",
       "0                   El asesinato de la familia Borden   \n",
       "1                              Papeles sobre el suelo   \n",
       "2                          Caleidoscopio de un Arenal   \n",
       "3                                     Liliane Tomasko   \n",
       "4   Dora Mayer, la perseverancia femenina frente a...   \n",
       "5                                   Daido Tokyo Color   \n",
       "6                      Isla Azul. LÃ¡minas de Iquitos   \n",
       "7                                              Zimoun   \n",
       "8                           Taivaanranta - Firmamento   \n",
       "9                                         AutotÃ©lico   \n",
       "10  La otra mirada del jugador: Dibujos de Julio H...   \n",
       "11                      ORGANUM. Universos corporales   \n",
       "12                           Yoko Ono. Universo Libre   \n",
       "13                                  Reina por un dÃ­a   \n",
       "14                                  Reina por un dÃ­a   \n",
       "\n",
       "                       tipo_evento                             lugar_evento  \\\n",
       "0                             Cine                      Varias sedes - Lima   \n",
       "1                      ExposiciÃ³n            Instituto Italiano de Cultura   \n",
       "2                      ExposiciÃ³n          Centro Cultural de Bellas Artes   \n",
       "3                      ExposiciÃ³n           MATE Lab - Museo Mario Testino   \n",
       "4                      ExposiciÃ³n           Centro Cultural Inca Garcilaso   \n",
       "5                      ExposiciÃ³n               MATE - Museo Mario Testino   \n",
       "6   Centro Cultural Inca Garcilaso                                 10:00 am   \n",
       "7                      ExposiciÃ³n           Espacio FundaciÃ³n TelefÃ³nica   \n",
       "8                      ExposiciÃ³n                     Centro Cultural PUCP   \n",
       "9                      ExposiciÃ³n                               Casa Fugaz   \n",
       "10                     ExposiciÃ³n              GalerÃ­a ICPNA - Miraflores   \n",
       "11                     ExposiciÃ³n  Sheraton Lima Hotel & Convention Center   \n",
       "12                     ExposiciÃ³n                            Proyecto AMIL   \n",
       "13                  Teatro Marsano                                  7:00 pm   \n",
       "14                  Teatro Marsano                                  8:00 pm   \n",
       "\n",
       "                 intervalo_fecha                        precio  \\\n",
       "0   Del 20.12.2018 al 03.01.2019                     S/. 20.00   \n",
       "1                        9:00 am  Del 07.12.2018 al 09.02.2019   \n",
       "2                       10:00 am  Del 13.12.2018 al 27.01.2019   \n",
       "3                       10:00 am  Del 25.11.2018 al 27.01.2019   \n",
       "4                       10:00 am  Del 06.12.2018 al 27.01.2019   \n",
       "5                       10:00 am  Del 19.10.2018 al 03.03.2019   \n",
       "6   Del 13.12.2018 al 27.01.2019                        GRATIS   \n",
       "7                       10:00 am  Del 22.11.2018 al 10.03.2019   \n",
       "8                       10:00 am  Del 18.10.2018 al 31.01.2019   \n",
       "9                       11:00 am  Del 24.11.2018 al 24.01.2019   \n",
       "10                      11:00 am  Del 28.12.2018 al 06.01.2019   \n",
       "11                      11:00 am  Del 24.11.2018 al 06.01.2019   \n",
       "12                       3:00 pm  Del 18.09.2018 al 16.02.2019   \n",
       "13  Del 02.01.2019 al 31.03.2019         S/. 38.00 a S/. 80.00   \n",
       "14  Del 02.01.2019 al 30.03.2019         S/. 38.00 a S/. 80.00   \n",
       "\n",
       "                                   descripcion_basica  \\\n",
       "0   ChloÃ« Sevigny y Kristen Stewart protagonizan ...   \n",
       "1                                              GRATIS   \n",
       "2                                              GRATIS   \n",
       "3                                              GRATIS   \n",
       "4                                              GRATIS   \n",
       "5                                              GRATIS   \n",
       "6   Iquitos fue la ciudad-puerto protagonista, jun...   \n",
       "7                                              GRATIS   \n",
       "8                                              GRATIS   \n",
       "9                                              GRATIS   \n",
       "10                                             GRATIS   \n",
       "11                                             GRATIS   \n",
       "12                                             GRATIS   \n",
       "13  Valentina esÂ una madre que abandona a su hijo...   \n",
       "14  Valentina esÂ una madre que abandona a su hijo...   \n",
       "\n",
       "                                           data_extra  \\\n",
       "0   ['Varias sedes - Lima', 'Ãrea metropolitana',...   \n",
       "1   ['Instituto Italiano de Cultura', 'Av. Arequip...   \n",
       "2   ['Centro Cultural de Bellas Artes', 'Jr. Huall...   \n",
       "3   ['MATE Lab - Museo Mario Testino', 'Av. Pedro ...   \n",
       "4   ['Centro Cultural Inca Garcilaso', 'Jr. Ucayal...   \n",
       "5   ['MATE - Museo Mario Testino', 'Av. Pedro de O...   \n",
       "6   ['Centro Cultural Inca Garcilaso', 'Jr. Ucayal...   \n",
       "7   ['Espacio FundaciÃ³n TelefÃ³nica', 'Av. Arequi...   \n",
       "8   ['Centro Cultural PUCP', 'Av. Camino Real 1075...   \n",
       "9   ['Casa Fugaz', 'Jr. ConstituciÃ³n 250, Monumen...   \n",
       "10  ['GalerÃ­a ICPNA - Miraflores', 'Av. Angamos O...   \n",
       "11  ['Sheraton Lima Hotel & Convention Center', 'P...   \n",
       "12  ['Proyecto AMIL', 'C.C. Camino Real, VÃ­ctor A...   \n",
       "13  ['Teatro Marsano', 'General SuÃ¡rez 409', 'Mir...   \n",
       "14  ['Teatro Marsano', 'General SuÃ¡rez 409', 'Mir...   \n",
       "\n",
       "                                          coordenadas  \n",
       "0                                  ['nohay', 'nohay']  \n",
       "1   ['-77.0357290999999975156242726370692253112792...  \n",
       "2   ['-77.0301716000000027406713343225419521331787...  \n",
       "3   ['-77.0228443000000027041096473112702369689941...  \n",
       "4   ['-77.0290530999999987216142471879720687866210...  \n",
       "5   ['-77.0228443000000027041096473112702369689941...  \n",
       "6   ['-77.0290530999999987216142471879720687866210...  \n",
       "7   ['-77.0353209000000020978404791094362735748291...  \n",
       "8   ['-77.0386916000000070425812737084925174713134...  \n",
       "9   ['-77.1473139999999943938746582716703414916992...  \n",
       "10  ['-77.0302690000000040981831261888146400451660...  \n",
       "11  ['-77.0370410000000021000232663936913013458251...  \n",
       "12  ['-77.0363554358479944994542165659368038177490...  \n",
       "13  ['-77.0276357999999987669070833362638950347900...  \n",
       "14  ['-77.0276357999999987669070833362638950347900...  "
      ]
     },
     "execution_count": 47,
     "metadata": {},
     "output_type": "execute_result"
    }
   ],
   "source": [
    "df1 = pd.read_csv('enlima_2019-01-02.csv', encoding='ISO-8859-1')\n",
    "df1"
   ]
  },
  {
   "cell_type": "code",
   "execution_count": 129,
   "metadata": {},
   "outputs": [],
   "source": [
    "eventos_prueba=['https://www.enlima.pe/agenda-cultural/cine/el-asesinato-de-la-familia-borden', \n",
    "                'https://www.enlima.pe/agenda-cultural/exposicion/papeles-sobre-el-suelo', 'https://www.enlima.pe/agenda-cultural/exposicion/isla-azul-laminas-de-iquitos', \n",
    "                'https://www.enlima.pe/agenda-cultural/exposicion/zimoun']"
   ]
  },
  {
   "cell_type": "code",
   "execution_count": 132,
   "metadata": {},
   "outputs": [
    {
     "data": {
      "text/plain": [
       "{'evento1': {'nombre_evento': 'El asesinato de la familia Borden',\n",
       "  'tipo_evento': 'Cine',\n",
       "  'lugar_evento': 'Varias sedes - Lima',\n",
       "  'intervalo_fecha': 'Del 20.12.2018 al 03.01.2019',\n",
       "  'precio': 'S/. 20.00',\n",
       "  'descripcion_basica': 'Chloë Sevigny y Kristen Stewart protagonizan El asesinato de la familia Borden, una nueva adaptación sobre la conocida y presunta “asesina” del hacha, Lizzie Borden. El largometraje está a cargo de un debutante Craig William Macneil. La película presenta nuevos elementos que la diferencian de las anteriores, incluyendo la vida sentimental de Lizzie.\\nLa cinta relata la vida de Lizzie Borden (Segivny), una mujer sometida al férreo control de su padre y con una vida bastante reprimida. Cuando Bridget Sullivan (Stewart) entra a vivir con la familia en busca desesperada por trabajo, Lizzie se siente atraída hacia la joven, lo que despierta en ella el deseo por elaborar un plan que la libere del su padre y así poder vivir libremente\\nWilliam Macneil escogió personalmente a la nominada al Óscar, Chloë Sevigny para retratar a la conocida “asesina del hacha”. Este es un drama cargado de tensión y suspenso el cual despierta intriga causando un impacto psicológico en el espectador.\\nLizzie Borden fue una mujer estadounidense, única sospechosa de haber asesinado brutalmente a su padre y a su madrastra en 1892, con un objeto filoso, presuntamente un hacha, lo que definió su apodo. Lizzie fue absuelta de los crímenes, durante un juicio que duro varios meses, lleno de irregularidades y vicios.\\nLa película recibió buenos comentarios en el Festival de Sundance donde los críticos elogiaron las actuaciones, especialmente a Sevigny, por lograr captar la esencia de un personaje tan oscuro y enigmático.\\nEl asesinato de la familia Borden estará en nuestra cartelera desde el\\xa020 de diciembre.\\xa0\\n\\n\\n',\n",
       "  'data_extra': ['Varias sedes - Lima',\n",
       "   'Área metropolitana',\n",
       "   'Lima',\n",
       "   '+ info'],\n",
       "  'coordenadas': ['nohay', 'nohay']},\n",
       " 'evento2': {'nombre_evento': 'Papeles sobre el suelo',\n",
       "  'tipo_evento': 'Exposición',\n",
       "  'lugar_evento': 'Instituto Italiano de Cultura',\n",
       "  'intervalo_fecha': '9:00 am',\n",
       "  'precio': 'Del 07.12.2018 al 09.02.2019',\n",
       "  'descripcion_basica': 'GRATIS',\n",
       "  'data_extra': ['Instituto Italiano de Cultura',\n",
       "   'Av. Arequipa 1075a',\n",
       "   'Cercado de Lima',\n",
       "   'lun-vier 9am-8pm | sáb 9am-1pm\\n',\n",
       "   '472-6466 ',\n",
       "   '+ info',\n",
       "   ''],\n",
       "  'coordenadas': ['-77.035729099999997515624272637069225311279296875',\n",
       "   '-12.0753184999999998439079718082211911678314208984375']},\n",
       " 'evento3': {'nombre_evento': 'Isla Azul. Láminas de Iquitos',\n",
       "  'tipo_evento': 'Centro Cultural Inca Garcilaso',\n",
       "  'lugar_evento': '10:00 am',\n",
       "  'intervalo_fecha': 'Del 13.12.2018 al 27.01.2019',\n",
       "  'precio': 'GRATIS',\n",
       "  'descripcion_basica': \"Iquitos fue la ciudad-puerto protagonista, junto a Manaos, de la Fiebre del Caucho (1880-1918), uno de los periodos de la historia peruana más alejados de nuestra memoria y que significó devastación, masacres y torturas para la población amazónica. Paradójicamente, esta época solo pudo ser visibilizada con la publicación de\\xa0El Libro Azul\\xa0británico, informe de las investigaciones realizadas por el cónsul irlandés Roger Casement. Hoy Iquitos convive con los restos arquitectónicos europeos cuyas paredes están repletas de historias. Malú Cabellos ingresa por la puerta de una de estas construcciones, el Edificio Azul, símbolo del absurdo, la corrupción y el abandono, para desarrollar su proyecto fotográfico en el que tercamente se impone este color.\\nEl crítico Jorge Villacorta, dice que “podría considerarse que las imágenes fotográficas de Malú Cabellos son 'comentarios reales' de Iquitos. Ella lo presenta como un lugar semi-abandonado, trajinado y vivido y, sin embargo, imaginado. Su fotografía no emite ni proyecta juicios morales, pero su visión interroga a las sombras del pasado y las cuestiona acerca de su devenir en la historia.\\nLas imágenes fotográficas conservadas de antaño (archivo CAAAP) constituyen para ella una memorial visual, legado de una época, que plagada de funestos intereses económicos, tuvo trágicas consecuencias para una zona de la Amazonía entre dos países, para sus habitantes y para el mundo cultural de estos; hasta el presente. En Iquitos ella descubre murales que ingenuamente hacen eco de los retratos fotográficos grupales de la Fiebre del Caucho. A contracorriente, ella toma fragmentos de los negativos y los imprime en láminas de caucho natural, material recordatorio tanto de la sangre coagulada y tratada del árbol como de la piel de un cuerpo oscuramente quemado. El ingreso al archivo la ha conducido al umbral de lo lacerante, punto en el que ella parece rebelarse y nos confronta, con la agencia de la luz, a un acto revelador.\\nIsla Azul. Láminas de Iquitos\\xa0va hasta el 27\\xa0de enero 2019 y puede ser visitada de\\xa0martes a viernes, de 10 am a 8 pm, y sábados, domingos y feriados, de 10 am\\xa0a 18pm. Ingreso libre.\\n\",\n",
       "  'data_extra': ['Centro Cultural Inca Garcilaso',\n",
       "   'Jr. Ucayali 391',\n",
       "   'Cercado de Lima',\n",
       "   '204-2658',\n",
       "   '+ info',\n",
       "   ''],\n",
       "  'coordenadas': ['-77.02905309999999872161424718797206878662109375',\n",
       "   '-12.0489358000000006398977347998879849910736083984375']},\n",
       " 'evento4': {'nombre_evento': 'Zimoun',\n",
       "  'tipo_evento': 'Exposición',\n",
       "  'lugar_evento': 'Espacio Fundación Telefónica',\n",
       "  'intervalo_fecha': '10:00 am',\n",
       "  'precio': 'Del 22.11.2018 al 10.03.2019',\n",
       "  'descripcion_basica': 'GRATIS',\n",
       "  'data_extra': ['Espacio Fundación Telefónica',\n",
       "   'Av. Arequipa 1155',\n",
       "   'Lima',\n",
       "   'mar - sáb 10am - 8pm | dom 12 - 7pm\\n',\n",
       "   '210-1327',\n",
       "   '+ info',\n",
       "   ''],\n",
       "  'coordenadas': ['-77.0353209000000020978404791094362735748291015625',\n",
       "   '-12.0762163000000004586809154716320335865020751953125']}}"
      ]
     },
     "execution_count": 132,
     "metadata": {},
     "output_type": "execute_result"
    }
   ],
   "source": [
    "dic_prueba = scrap_me_los_eventos(eventos_prueba)\n",
    "dic_prueba"
   ]
  },
  {
   "cell_type": "markdown",
   "metadata": {},
   "source": [
    "#### To do: \n",
    "\n",
    "- Una función a la que le dé dos fechas y me bote una lista con todos los días dentro de esa fecha.  **LISTO**\n",
    "\n",
    "- Una función a la que le pase la lista de fechas y me scrapee todos los links que hay dentro de esas fechas. **LISTO**\n",
    "\n",
    "- Una función última de scrapper que pueda jalarme toda la información de las webs. El formato será tabular y en csv. (avanzar hasta tener un mvp e identificar los campos que tendré. También scrapear links)  **Avanzado a un 80%**"
   ]
  },
  {
   "cell_type": "code",
   "execution_count": 94,
   "metadata": {},
   "outputs": [],
   "source": [
    "dict_1 = make_internal_links(lista_times[:2])"
   ]
  },
  {
   "cell_type": "code",
   "execution_count": 95,
   "metadata": {},
   "outputs": [
    {
     "data": {
      "text/plain": [
       "{'2019-01-01': [['https://www.enlima.pe//agenda-cultural/cine/el-asesinato-de-la-familia-borden'],\n",
       "  ['https://www.enlima.pe//agenda-cultural/exposicion/papeles-sobre-el-suelo'],\n",
       "  ['https://www.enlima.pe//agenda-cultural/exposicion/liliane-tomasko'],\n",
       "  ['https://www.enlima.pe//agenda-cultural/exposicion/dora-mayer-la-perseverancia-femenina-frente-a-su-tiempo'],\n",
       "  ['https://www.enlima.pe//agenda-cultural/exposicion/caleidoscopio-de-un-arenal'],\n",
       "  ['https://www.enlima.pe//agenda-cultural/exposicion/daido-tokyo-color'],\n",
       "  ['https://www.enlima.pe//agenda-cultural/exposicion/isla-azul-laminas-de-iquitos'],\n",
       "  ['https://www.enlima.pe//agenda-cultural/exposicion/taivaanranta-firmamento'],\n",
       "  ['https://www.enlima.pe//agenda-cultural/exposicion/zimoun'],\n",
       "  ['https://www.enlima.pe//agenda-cultural/exposicion/organum-universos-corporales'],\n",
       "  ['https://www.enlima.pe//agenda-cultural/exposicion/la-otra-mirada-del-jugador-dibujos-de-julio-hevia'],\n",
       "  ['https://www.enlima.pe//agenda-cultural/exposicion/autotelico']],\n",
       " '2019-01-02': [['https://www.enlima.pe//agenda-cultural/cine/el-asesinato-de-la-familia-borden'],\n",
       "  ['https://www.enlima.pe//agenda-cultural/exposicion/papeles-sobre-el-suelo'],\n",
       "  ['https://www.enlima.pe//agenda-cultural/exposicion/caleidoscopio-de-un-arenal'],\n",
       "  ['https://www.enlima.pe//agenda-cultural/exposicion/liliane-tomasko'],\n",
       "  ['https://www.enlima.pe//agenda-cultural/exposicion/dora-mayer-la-perseverancia-femenina-frente-a-su-tiempo'],\n",
       "  ['https://www.enlima.pe//agenda-cultural/exposicion/daido-tokyo-color'],\n",
       "  ['https://www.enlima.pe//agenda-cultural/exposicion/isla-azul-laminas-de-iquitos'],\n",
       "  ['https://www.enlima.pe//agenda-cultural/exposicion/zimoun'],\n",
       "  ['https://www.enlima.pe//agenda-cultural/exposicion/taivaanranta-firmamento'],\n",
       "  ['https://www.enlima.pe//agenda-cultural/exposicion/autotelico'],\n",
       "  ['https://www.enlima.pe//agenda-cultural/exposicion/la-otra-mirada-del-jugador-dibujos-de-julio-hevia'],\n",
       "  ['https://www.enlima.pe//agenda-cultural/exposicion/organum-universos-corporales'],\n",
       "  ['https://www.enlima.pe//agenda-cultural/exposicion/yoko-ono-universo-libre'],\n",
       "  ['https://www.enlima.pe//agenda-cultural/teatro/reina-por-un-dia-1'],\n",
       "  ['https://www.enlima.pe//agenda-cultural/teatro/reina-por-un-dia-0']]}"
      ]
     },
     "execution_count": 95,
     "metadata": {},
     "output_type": "execute_result"
    }
   ],
   "source": [
    "dict_1"
   ]
  },
  {
   "cell_type": "code",
   "execution_count": 31,
   "metadata": {},
   "outputs": [],
   "source": [
    "link = 'https://www.enlima.pe/calendario-cultural/dia/'+'2020-01-14'+'?page=1' \n",
    "response = requests.get(link)\n",
    "soup = BeautifulSoup(response.text,\"html.parser\")"
   ]
  },
  {
   "cell_type": "code",
   "execution_count": 32,
   "metadata": {},
   "outputs": [],
   "source": [
    "lista_links_internos = []\n",
    "for i in soup.find('div',{'class':'innera'}).find_all('td',{'class':'views-field views-field-title views-align-left'}):\n",
    "    link_interno = [a['href'] for a in i.find_all('a',href=True)]\n",
    "    lista_links_internos.append(link_interno)"
   ]
  },
  {
   "cell_type": "code",
   "execution_count": 33,
   "metadata": {},
   "outputs": [],
   "source": [
    "dict_info = {}\n",
    "for i in lista_links_internos:\n",
    "    link_entero = 'https://www.enlima.pe' + str(i[0])"
   ]
  },
  {
   "cell_type": "code",
   "execution_count": 34,
   "metadata": {},
   "outputs": [
    {
     "data": {
      "text/plain": [
       "'https://www.enlima.pe/agenda-cultural/teatro/mi-nombre-es-rachel-corrie-0'"
      ]
     },
     "execution_count": 34,
     "metadata": {},
     "output_type": "execute_result"
    }
   ],
   "source": []
  },
  {
   "cell_type": "code",
   "execution_count": 82,
   "metadata": {},
   "outputs": [],
   "source": []
  },
  {
   "cell_type": "code",
   "execution_count": 71,
   "metadata": {},
   "outputs": [],
   "source": [
    "two_links_internos = ['https://www.enlima.pe/agenda-cultural/teatro/mi-nombre-es-rachel-corrie-0',\n",
    "                     'https://www.enlima.pe/agenda-cultural/exposicion/calendarios-japoneses']\n"
   ]
  },
  {
   "cell_type": "code",
   "execution_count": 75,
   "metadata": {},
   "outputs": [],
   "source": []
  },
  {
   "cell_type": "code",
   "execution_count": 76,
   "metadata": {
    "scrolled": true
   },
   "outputs": [
    {
     "name": "stdout",
     "output_type": "stream",
     "text": [
      "https://www.enlima.pe/agenda-cultural/cine/el-asesinato-de-la-familia-borden\n",
      "https://www.enlima.pe/agenda-cultural/exposicion/papeles-sobre-el-suelo\n",
      "https://www.enlima.pe/agenda-cultural/exposicion/daido-tokyo-color\n",
      "https://www.enlima.pe/agenda-cultural/exposicion/isla-azul-laminas-de-iquitos\n",
      "https://www.enlima.pe/agenda-cultural/exposicion/taivaanranta-firmamento\n",
      "https://www.enlima.pe/agenda-cultural/exposicion/zimoun\n",
      "https://www.enlima.pe/agenda-cultural/exposicion/liliane-tomasko\n",
      "https://www.enlima.pe/agenda-cultural/exposicion/dora-mayer-la-perseverancia-femenina-frente-a-su-tiempo\n",
      "https://www.enlima.pe/agenda-cultural/exposicion/caleidoscopio-de-un-arenal\n",
      "https://www.enlima.pe/agenda-cultural/exposicion/organum-universos-corporales\n",
      "https://www.enlima.pe/agenda-cultural/exposicion/la-otra-mirada-del-jugador-dibujos-de-julio-hevia\n",
      "https://www.enlima.pe/agenda-cultural/exposicion/autotelico\n",
      "https://www.enlima.pe/agenda-cultural/cine/el-asesinato-de-la-familia-borden\n",
      "https://www.enlima.pe/agenda-cultural/exposicion/papeles-sobre-el-suelo\n",
      "https://www.enlima.pe/agenda-cultural/exposicion/liliane-tomasko\n",
      "https://www.enlima.pe/agenda-cultural/exposicion/dora-mayer-la-perseverancia-femenina-frente-a-su-tiempo\n",
      "https://www.enlima.pe/agenda-cultural/exposicion/daido-tokyo-color\n",
      "https://www.enlima.pe/agenda-cultural/exposicion/isla-azul-laminas-de-iquitos\n",
      "https://www.enlima.pe/agenda-cultural/exposicion/zimoun\n",
      "https://www.enlima.pe/agenda-cultural/exposicion/taivaanranta-firmamento\n",
      "https://www.enlima.pe/agenda-cultural/exposicion/caleidoscopio-de-un-arenal\n",
      "https://www.enlima.pe/agenda-cultural/exposicion/la-otra-mirada-del-jugador-dibujos-de-julio-hevia\n",
      "https://www.enlima.pe/agenda-cultural/exposicion/organum-universos-corporales\n",
      "https://www.enlima.pe/agenda-cultural/exposicion/autotelico\n",
      "https://www.enlima.pe/agenda-cultural/exposicion/yoko-ono-universo-libre\n",
      "https://www.enlima.pe/agenda-cultural/teatro/reina-por-un-dia-1\n",
      "https://www.enlima.pe/agenda-cultural/teatro/reina-por-un-dia-0\n"
     ]
    }
   ],
   "source": [
    "dict_3 = scrap_me_internal_links(['https://www.enlima.pe/calendario-cultural/dia/2019-01-01?page=1',\n",
    " 'https://www.enlima.pe/calendario-cultural/dia/2019-01-02?page=1'])"
   ]
  },
  {
   "cell_type": "code",
   "execution_count": 77,
   "metadata": {},
   "outputs": [
    {
     "data": {
      "text/plain": [
       "{'2019-01-01': {'evento1': {'nombre_evento': 'Autotélico',\n",
       "   'tipo_evento': 'Exposición',\n",
       "   'lugar_evento': 'Casa Fugaz',\n",
       "   'intervalo_fecha': '11:00 am',\n",
       "   'precio': 'Del 24.11.2018 al 24.01.2019',\n",
       "   'descripcion_basica': 'GRATIS',\n",
       "   'data_extra': ['Casa Fugaz',\n",
       "    'Jr. Constitución 250, Monumental Callao',\n",
       "    'Callao',\n",
       "    '+ info',\n",
       "    ''],\n",
       "   'coordenadas': ['-77.14731399999999439387465827167034149169921875',\n",
       "    '-12.059886999999999801502781338058412075042724609375']}},\n",
       " '2019-01-02': {'evento1': {'nombre_evento': 'Reina por un día',\n",
       "   'tipo_evento': 'Teatro Marsano',\n",
       "   'lugar_evento': '8:00 pm',\n",
       "   'intervalo_fecha': 'Del 02.01.2019 al 30.03.2019',\n",
       "   'precio': 'S/. 38.00 a S/. 80.00',\n",
       "   'descripcion_basica': 'Valentina es\\xa0una madre que abandona a su hijo al nacer, quien crece con un sentimiento permanente de frustración y resentimiento hacia ella.\\xa0Veinticinco años después, en un Día de la Madre, Valentina regresa a la casa donde vive su hijo Jorge y su esposa, para resolver muchos conflictos y\\xa0reconciliarse con su hijo.\\nReina por un día es una adaptación libre de Chalo Gambino, que cuenta con las actuaciones de: Regina Alcover,\\xa0Renato Rossini, Julián Legaspi, Elvira de la Puente y\\xa0Leonardo Torres Descalzi, entre otros.\\nLa temporada de esta obra de teatro en Lima va hasta el 31 de marzo 2019, con funciones de miércoles a sábado a las 8 pm, y domingo a las 7 pm.\\nPrecio de entrada: General S/80; Estudiantes y Adulto mayor S/38; Domingo familiar S/50\\nVenta de entradas: Teleticket y boletería del teatro\\n\\xa0\\n',\n",
       "   'data_extra': ['Teatro Marsano',\n",
       "    'General Suárez 409',\n",
       "    'Miraflores',\n",
       "    '445-7347',\n",
       "    '+ info',\n",
       "    ''],\n",
       "   'coordenadas': ['-77.0276357999999987669070833362638950347900390625',\n",
       "    '-12.1169062000000007373046173597685992717742919921875']}}}"
      ]
     },
     "execution_count": 77,
     "metadata": {},
     "output_type": "execute_result"
    }
   ],
   "source": [
    "dict_3"
   ]
  },
  {
   "cell_type": "code",
   "execution_count": 73,
   "metadata": {},
   "outputs": [],
   "source": [
    "scrap_me_all('https://www.enlima.pe/agenda-cultural/exposicion/calendarios-japoneses')"
   ]
  },
  {
   "cell_type": "code",
   "execution_count": 74,
   "metadata": {},
   "outputs": [
    {
     "data": {
      "text/plain": [
       "{'evento1': {'nombre_evento': 'Calendarios japoneses',\n",
       "  'tipo_evento': 'Centro Cultural Peruano Japonés',\n",
       "  'lugar_evento': '9:00 am',\n",
       "  'intervalo_fecha': 'Del 06.01.2020 al 31.01.2020',\n",
       "  'precio': 'GRATIS',\n",
       "  'descripcion_basica': 'La Embajada del Japón en el Perú y la Asociación Peruano Japonesa presentan esta tradicional muestra de almanaques japoneses. La muestra reúne ejemplares con bellos diseños basados en las tradiciones japonesas, que los apartan de su función utilitaria para convertirlos en objetos artísticos de gran atractivo.\\nEsta exposición se puede visitar del 6 al 31 de enero 2020, todos los días de 9 am a 9 pm.\\nINGRESO LIBRE\\n',\n",
       "  'data_extra': ['Centro Cultural Peruano Japonés',\n",
       "   'Calle Gregorio Escobedo 803, Residencial San Felipe',\n",
       "   'Jesús María',\n",
       "   'lun-dom 9am-9pm\\n',\n",
       "   '518-7450',\n",
       "   '+ info',\n",
       "   ''],\n",
       "  'coordenadas': ['-77.055456899999995812322595156729221343994140625',\n",
       "   '-12.08798110000000036734491004608571529388427734375']}}"
      ]
     },
     "execution_count": 74,
     "metadata": {},
     "output_type": "execute_result"
    }
   ],
   "source": [
    "dict_scrap_final"
   ]
  },
  {
   "cell_type": "code",
   "execution_count": 44,
   "metadata": {},
   "outputs": [],
   "source": [
    "response = requests.get('https://www.enlima.pe/agenda-cultural/exposicion/calendarios-japoneses')\n",
    "soup = BeautifulSoup(response.text,\"html.parser\")"
   ]
  },
  {
   "cell_type": "code",
   "execution_count": 45,
   "metadata": {},
   "outputs": [
    {
     "data": {
      "text/plain": [
       "'Calendarios japoneses'"
      ]
     },
     "execution_count": 45,
     "metadata": {},
     "output_type": "execute_result"
    }
   ],
   "source": [
    "#Titulo\n",
    "soup.find('h1',{'class':'page__title title'}).text"
   ]
  },
  {
   "cell_type": "code",
   "execution_count": 46,
   "metadata": {},
   "outputs": [],
   "source": [
    "# tipo, lugar, intervalo_fecha, precio, descripcion_basica\n",
    "basic_info = [div.text for div in soup.find_all('div',{'class':'field-item even'})[2:7]]\n",
    "tipo, lugar, intervalo_fecha, precio, descripcion_basica = map(str,basic_info)"
   ]
  },
  {
   "cell_type": "code",
   "execution_count": 49,
   "metadata": {},
   "outputs": [
    {
     "name": "stdout",
     "output_type": "stream",
     "text": [
      "Centro Cultural Peruano Japonés -- 9:00 am -- Del 06.01.2020 al 31.01.2020 -- GRATIS -- La Embajada del Japón en el Perú y la Asociación Peruano Japonesa presentan esta tradicional muestra de almanaques japoneses. La muestra reúne ejemplares con bellos diseños basados en las tradiciones japonesas, que los apartan de su función utilitaria para convertirlos en objetos artísticos de gran atractivo.\n",
      "Esta exposición se puede visitar del 6 al 31 de enero 2020, todos los días de 9 am a 9 pm.\n",
      "INGRESO LIBRE\n",
      "\n"
     ]
    }
   ],
   "source": [
    "print(tipo,'--', lugar,'--', intervalo_fecha,'--', precio,'--', descripcion_basica)"
   ]
  },
  {
   "cell_type": "code",
   "execution_count": 50,
   "metadata": {},
   "outputs": [
    {
     "data": {
      "text/plain": [
       "['Centro Cultural Peruano Japonés',\n",
       " 'Calle Gregorio Escobedo 803, Residencial San Felipe',\n",
       " 'Jesús María',\n",
       " 'lun-dom 9am-9pm\\n',\n",
       " '518-7450',\n",
       " '+ info',\n",
       " '']"
      ]
     },
     "execution_count": 50,
     "metadata": {},
     "output_type": "execute_result"
    }
   ],
   "source": [
    "# Direccion, Distrito, horarios y dias, numero\n",
    "#OJO, no todos tienen estos campos. Por eso lo pondré para parsear luego. Que me encuentre todo lo que pueda. \n",
    "to_parse = [elem.text for elem in soup.find('div',{'class':'ds-1col node node-lugar view-mode-reference clearfix'}).find_all('div',{'class':'field-item even'})]\n",
    "to_parse"
   ]
  },
  {
   "cell_type": "code",
   "execution_count": 69,
   "metadata": {},
   "outputs": [],
   "source": [
    "#Longitud y latitud\n",
    "# Algunos tienen otros no. Entonces se recomienda hacer un try except... probar con los que no tienen y sí. \n",
    "import re\n",
    "\n",
    "pattern = re.compile(r'-\\d*.\\d*,-\\d*.\\d*',re.MULTILINE|re.DOTALL) #Tengo el patron de las coordenadas\n",
    "\n",
    "script = soup.find_all('script',text=pattern) #saco el script que contiene el patron\n",
    "\n",
    "coordenadas_list = re.findall(pattern,str(script))[0].split(',') #Lo obtengo y lo pongo dentro de una lista. "
   ]
  },
  {
   "cell_type": "code",
   "execution_count": 70,
   "metadata": {},
   "outputs": [
    {
     "data": {
      "text/plain": [
       "['-77.055456899999995812322595156729221343994140625',\n",
       " '-12.08798110000000036734491004608571529388427734375']"
      ]
     },
     "execution_count": 70,
     "metadata": {},
     "output_type": "execute_result"
    }
   ],
   "source": [
    "coordenadas_list"
   ]
  },
  {
   "cell_type": "code",
   "execution_count": null,
   "metadata": {},
   "outputs": [],
   "source": []
  },
  {
   "cell_type": "code",
   "execution_count": null,
   "metadata": {},
   "outputs": [],
   "source": []
  }
 ],
 "metadata": {
  "kernelspec": {
   "display_name": "Python 3",
   "language": "python",
   "name": "python3"
  },
  "language_info": {
   "codemirror_mode": {
    "name": "ipython",
    "version": 3
   },
   "file_extension": ".py",
   "mimetype": "text/x-python",
   "name": "python",
   "nbconvert_exporter": "python",
   "pygments_lexer": "ipython3",
   "version": "3.7.5"
  }
 },
 "nbformat": 4,
 "nbformat_minor": 2
}
