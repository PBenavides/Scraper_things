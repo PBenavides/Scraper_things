{
 "cells": [
  {
   "cell_type": "markdown",
   "metadata": {},
   "source": [
    "Para el ajax en enlima.pe https://www.enlima.pe/calendario-cultural/dia/2020-01-14?page=1"
   ]
  },
  {
   "cell_type": "code",
   "execution_count": 1,
   "metadata": {},
   "outputs": [],
   "source": [
    "import requests\n",
    "from bs4 import BeautifulSoup\n",
    "\n",
    "import datetime\n",
    "from datetime import timedelta\n",
    "\n",
    "import re"
   ]
  },
  {
   "cell_type": "code",
   "execution_count": 47,
   "metadata": {},
   "outputs": [],
   "source": [
    "year = 2018\n",
    "month = 1\n",
    "day = 1\n",
    "\n",
    "time_obj = datetime.datetime(2018,1,1,0,0)\n",
    "time_obj_2 = datetime.datetime(2018,1,31,0,0)\n",
    "\n",
    "def pass_datetimes_make_links(initial_time, final_time):\n",
    "    # A este función se le deben de pasar dos objetos datetime.datetime especificados respectivamente\n",
    "    date_list = []\n",
    "    time_obj = initial_time\n",
    "    while time_obj <= final_time:\n",
    "        time_obj2 = time_obj.strftime(\"%Y-%m-%d\")\n",
    "        date_list.append(time_obj2)\n",
    "        time_obj += timedelta(days=1)\n",
    "    lista_links = ['https://www.enlima.pe/calendario-cultural/dia/'+fecha+'?page=1' for fecha in date_list]\n",
    "    return lista_links"
   ]
  },
  {
   "cell_type": "code",
   "execution_count": 48,
   "metadata": {},
   "outputs": [],
   "source": [
    "lista_times = pass_datetimes_make_links(time_obj,time_obj_2)"
   ]
  },
  {
   "cell_type": "code",
   "execution_count": null,
   "metadata": {},
   "outputs": [],
   "source": []
  },
  {
   "cell_type": "code",
   "execution_count": null,
   "metadata": {},
   "outputs": [],
   "source": []
  },
  {
   "cell_type": "code",
   "execution_count": null,
   "metadata": {},
   "outputs": [],
   "source": []
  },
  {
   "cell_type": "markdown",
   "metadata": {},
   "source": [
    "#### To do: \n",
    "\n",
    "- Una función a la que le dé dos fechas y me bote una lista con todos los días dentro de esa fecha.  **LISTO**\n",
    "\n",
    "- Una función a la que le pase la lista de fechas y me scrapee todos los links que hay dentro de esas fechas. \n",
    "\n",
    "- Una función última de scrapper que pueda jalarme toda la información de las webs. El formato será tabular y en csv. (avanzar hasta tener un mvp e identificar los campos que tendré. También scrapear links)  **Avanzado a un 80%**"
   ]
  },
  {
   "cell_type": "code",
   "execution_count": null,
   "metadata": {},
   "outputs": [],
   "source": [
    "def make_internal_links(lista_links):\n",
    "    for link in lista_links:\n",
    "        response = requests.get(link)\n",
    "        soup = BeautifulSoup(response.text,\"html.parser\")\n",
    "        lista_links_internos = []\n",
    "        for i in soup.find('div',{'class':'innera'}).find_all('td',{'class':'views-field views-field-title views-align-left'}):\n",
    "            link_interno = [a['href'] for a in i.find_all('a',href=True)]\n",
    "            lista_links_internos.append(link_interno)"
   ]
  },
  {
   "cell_type": "code",
   "execution_count": null,
   "metadata": {},
   "outputs": [],
   "source": []
  },
  {
   "cell_type": "code",
   "execution_count": null,
   "metadata": {},
   "outputs": [],
   "source": []
  },
  {
   "cell_type": "code",
   "execution_count": 4,
   "metadata": {},
   "outputs": [],
   "source": [
    "link = 'https://www.enlima.pe/calendario-cultural/dia/'+'2020-01-14'+'?page=1' \n",
    "response = requests.get(link)\n",
    "soup = BeautifulSoup(response.text,\"html.parser\")"
   ]
  },
  {
   "cell_type": "code",
   "execution_count": 5,
   "metadata": {},
   "outputs": [],
   "source": [
    "lista_links_internos = []\n",
    "for i in soup.find('div',{'class':'innera'}).find_all('td',{'class':'views-field views-field-title views-align-left'}):\n",
    "    link_interno = [a['href'] for a in i.find_all('a',href=True)]\n",
    "    lista_links_internos.append(link_interno)"
   ]
  },
  {
   "cell_type": "code",
   "execution_count": 6,
   "metadata": {},
   "outputs": [],
   "source": [
    "dict_info = {}\n",
    "for i in lista_links_internos:\n",
    "    link_entero = 'https://www.enlima.pe' + str(i[0])"
   ]
  },
  {
   "cell_type": "code",
   "execution_count": 72,
   "metadata": {},
   "outputs": [],
   "source": [
    "dict_scrap_final = {}\n",
    "i=1\n",
    "def scrap_me_all(link_interno):\n",
    "    global dict_scrap_final\n",
    "    dict_scrap_interno = {}\n",
    "    response = requests.get(link_interno)\n",
    "    soup = BeautifulSoup(response.text,\"html.parser\")\n",
    "    titulo = soup.find('h1',{'class':'page__title title'}).text\n",
    "    basic_info = [div.text for div in soup.find_all('div',{'class':'field-item even'})[2:7]]\n",
    "    tipo, lugar, intervalo_fecha, precio, descripcion_basica = map(str,basic_info)\n",
    "    to_parse = [elem.text for elem in soup.find('div',{'class':\n",
    "                                                       'ds-1col node node-lugar view-mode-reference clearfix'}).find_all('div',\n",
    "                                                                                                                         {'class':'field-item even'})]\n",
    "    pattern = re.compile(r'-\\d*.\\d*,-\\d*.\\d*',re.MULTILINE|re.DOTALL) #Tengo el patron de las coordenadas\n",
    "    script = soup.find_all('script',text=pattern) #saco el script que contiene el patron\n",
    "    coordenadas_list = re.findall(pattern,str(script))[0].split(',') #Lo obtengo y lo pongo dentro de una lista. \n",
    "    dict_scrap_final['evento'+str(i)] = {'nombre_evento':titulo,'tipo_evento':tipo,'lugar_evento':lugar,\n",
    "                                        'intervalo_fecha':intervalo_fecha,'precio':precio,\n",
    "                                         'descripcion_basica':descripcion_basica,'data_extra':to_parse,\n",
    "                                         'coordenadas':coordenadas_list}"
   ]
  },
  {
   "cell_type": "code",
   "execution_count": 73,
   "metadata": {},
   "outputs": [],
   "source": [
    "scrap_me_all('https://www.enlima.pe/agenda-cultural/exposicion/calendarios-japoneses')"
   ]
  },
  {
   "cell_type": "code",
   "execution_count": 74,
   "metadata": {},
   "outputs": [
    {
     "data": {
      "text/plain": [
       "{'evento1': {'nombre_evento': 'Calendarios japoneses',\n",
       "  'tipo_evento': 'Centro Cultural Peruano Japonés',\n",
       "  'lugar_evento': '9:00 am',\n",
       "  'intervalo_fecha': 'Del 06.01.2020 al 31.01.2020',\n",
       "  'precio': 'GRATIS',\n",
       "  'descripcion_basica': 'La Embajada del Japón en el Perú y la Asociación Peruano Japonesa presentan esta tradicional muestra de almanaques japoneses. La muestra reúne ejemplares con bellos diseños basados en las tradiciones japonesas, que los apartan de su función utilitaria para convertirlos en objetos artísticos de gran atractivo.\\nEsta exposición se puede visitar del 6 al 31 de enero 2020, todos los días de 9 am a 9 pm.\\nINGRESO LIBRE\\n',\n",
       "  'data_extra': ['Centro Cultural Peruano Japonés',\n",
       "   'Calle Gregorio Escobedo 803, Residencial San Felipe',\n",
       "   'Jesús María',\n",
       "   'lun-dom 9am-9pm\\n',\n",
       "   '518-7450',\n",
       "   '+ info',\n",
       "   ''],\n",
       "  'coordenadas': ['-77.055456899999995812322595156729221343994140625',\n",
       "   '-12.08798110000000036734491004608571529388427734375']}}"
      ]
     },
     "execution_count": 74,
     "metadata": {},
     "output_type": "execute_result"
    }
   ],
   "source": [
    "dict_scrap_final"
   ]
  },
  {
   "cell_type": "code",
   "execution_count": 44,
   "metadata": {},
   "outputs": [],
   "source": [
    "response = requests.get('https://www.enlima.pe/agenda-cultural/exposicion/calendarios-japoneses')\n",
    "soup = BeautifulSoup(response.text,\"html.parser\")"
   ]
  },
  {
   "cell_type": "code",
   "execution_count": 45,
   "metadata": {},
   "outputs": [
    {
     "data": {
      "text/plain": [
       "'Calendarios japoneses'"
      ]
     },
     "execution_count": 45,
     "metadata": {},
     "output_type": "execute_result"
    }
   ],
   "source": [
    "#Titulo\n",
    "soup.find('h1',{'class':'page__title title'}).text"
   ]
  },
  {
   "cell_type": "code",
   "execution_count": 46,
   "metadata": {},
   "outputs": [],
   "source": [
    "# tipo, lugar, intervalo_fecha, precio, descripcion_basica\n",
    "basic_info = [div.text for div in soup.find_all('div',{'class':'field-item even'})[2:7]]\n",
    "tipo, lugar, intervalo_fecha, precio, descripcion_basica = map(str,basic_info)"
   ]
  },
  {
   "cell_type": "code",
   "execution_count": 49,
   "metadata": {},
   "outputs": [
    {
     "name": "stdout",
     "output_type": "stream",
     "text": [
      "Centro Cultural Peruano Japonés -- 9:00 am -- Del 06.01.2020 al 31.01.2020 -- GRATIS -- La Embajada del Japón en el Perú y la Asociación Peruano Japonesa presentan esta tradicional muestra de almanaques japoneses. La muestra reúne ejemplares con bellos diseños basados en las tradiciones japonesas, que los apartan de su función utilitaria para convertirlos en objetos artísticos de gran atractivo.\n",
      "Esta exposición se puede visitar del 6 al 31 de enero 2020, todos los días de 9 am a 9 pm.\n",
      "INGRESO LIBRE\n",
      "\n"
     ]
    }
   ],
   "source": [
    "print(tipo,'--', lugar,'--', intervalo_fecha,'--', precio,'--', descripcion_basica)"
   ]
  },
  {
   "cell_type": "code",
   "execution_count": 50,
   "metadata": {},
   "outputs": [
    {
     "data": {
      "text/plain": [
       "['Centro Cultural Peruano Japonés',\n",
       " 'Calle Gregorio Escobedo 803, Residencial San Felipe',\n",
       " 'Jesús María',\n",
       " 'lun-dom 9am-9pm\\n',\n",
       " '518-7450',\n",
       " '+ info',\n",
       " '']"
      ]
     },
     "execution_count": 50,
     "metadata": {},
     "output_type": "execute_result"
    }
   ],
   "source": [
    "# Direccion, Distrito, horarios y dias, numero\n",
    "#OJO, no todos tienen estos campos. Por eso lo pondré para parsear luego. Que me encuentre todo lo que pueda. \n",
    "to_parse = [elem.text for elem in soup.find('div',{'class':'ds-1col node node-lugar view-mode-reference clearfix'}).find_all('div',{'class':'field-item even'})]\n",
    "to_parse"
   ]
  },
  {
   "cell_type": "code",
   "execution_count": 69,
   "metadata": {},
   "outputs": [],
   "source": [
    "#Longitud y latitud\n",
    "# Algunos tienen otros no. Entonces se recomienda hacer un try except... probar con los que no tienen y sí. \n",
    "import re\n",
    "\n",
    "pattern = re.compile(r'-\\d*.\\d*,-\\d*.\\d*',re.MULTILINE|re.DOTALL) #Tengo el patron de las coordenadas\n",
    "\n",
    "script = soup.find_all('script',text=pattern) #saco el script que contiene el patron\n",
    "\n",
    "coordenadas_list = re.findall(pattern,str(script))[0].split(',') #Lo obtengo y lo pongo dentro de una lista. "
   ]
  },
  {
   "cell_type": "code",
   "execution_count": 70,
   "metadata": {},
   "outputs": [
    {
     "data": {
      "text/plain": [
       "['-77.055456899999995812322595156729221343994140625',\n",
       " '-12.08798110000000036734491004608571529388427734375']"
      ]
     },
     "execution_count": 70,
     "metadata": {},
     "output_type": "execute_result"
    }
   ],
   "source": [
    "coordenadas_list"
   ]
  },
  {
   "cell_type": "code",
   "execution_count": null,
   "metadata": {},
   "outputs": [],
   "source": []
  },
  {
   "cell_type": "code",
   "execution_count": null,
   "metadata": {},
   "outputs": [],
   "source": []
  }
 ],
 "metadata": {
  "kernelspec": {
   "display_name": "Python 3",
   "language": "python",
   "name": "python3"
  },
  "language_info": {
   "codemirror_mode": {
    "name": "ipython",
    "version": 3
   },
   "file_extension": ".py",
   "mimetype": "text/x-python",
   "name": "python",
   "nbconvert_exporter": "python",
   "pygments_lexer": "ipython3",
   "version": "3.7.5"
  }
 },
 "nbformat": 4,
 "nbformat_minor": 2
}
